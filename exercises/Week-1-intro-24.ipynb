{
 "cells": [
  {
   "cell_type": "markdown",
   "metadata": {},
   "source": [
    "# Week 1 - Normalization and data types\n",
    "\n",
    "This first week is going to be a warm-up week where we conider different statistical tools data types.\n",
    "\n",
    "Lets first import the libraries that we are going to need."
   ]
  },
  {
   "cell_type": "code",
   "execution_count": 1,
   "metadata": {
    "ExecuteTime": {
     "end_time": "2024-02-01T09:07:15.070939Z",
     "start_time": "2024-02-01T09:07:12.068117Z"
    }
   },
   "outputs": [],
   "source": [
    "%matplotlib inline\n",
    "import matplotlib.pyplot as plt\n",
    "import numpy as np\n",
    "import scipy.stats\n",
    "import scipy as sp"
   ]
  },
  {
   "cell_type": "markdown",
   "metadata": {},
   "source": [
    "## Exercise 1: Sample statistics and normalization\n",
    "\n",
    "Let $X$ and $Y$ be two normal distributions of discrete variables with ($\\mu_X=30,\\sigma_X=7$) and ($\\mu_Y=70,\\sigma_Y=10$) that describe the *Age* and the *Weight* of a population. From $X$ and $Y$ sample the *Age* and the *Weight* of $n=500000$ individuals."
   ]
  },
  {
   "cell_type": "code",
   "execution_count": 2,
   "metadata": {
    "ExecuteTime": {
     "end_time": "2024-02-01T09:07:15.099719Z",
     "start_time": "2024-02-01T09:07:15.069773Z"
    }
   },
   "outputs": [],
   "source": [
    "import numpy as np\n",
    "np.random.seed(1)\n",
    "# TODO: use np.random.normal to initialize X and Y and round() function for discretization of the data\n",
    "n = 500000\n",
    "X = np.random.normal(loc=30, scale=7, size=n).round().astype(int)\n",
    "Y = np.random.normal(loc=70, scale=10, size=n).round().astype(int)"
   ]
  },
  {
   "cell_type": "markdown",
   "metadata": {},
   "source": [
    "**a)** Find the mean, the median and the mode for $X,Y$. "
   ]
  },
  {
   "cell_type": "code",
   "execution_count": 3,
   "metadata": {
    "ExecuteTime": {
     "end_time": "2024-02-01T09:07:15.629537Z",
     "start_time": "2024-02-01T09:07:15.097243Z"
    }
   },
   "outputs": [
    {
     "name": "stdout",
     "output_type": "stream",
     "text": [
      "Mean: 30.007646\n",
      "Median: 30.0\n",
      "Mode: 30\n",
      "\n",
      "Mean: 70.002704\n",
      "Median: 70.0\n",
      "Mode: 70\n"
     ]
    }
   ],
   "source": [
    "import math\n",
    "\n",
    "def count_dictionary(X):\n",
    "    \"\"\"\n",
    "    Input: certain list of data   \n",
    "    Output: counts of list elements as a dictionary \n",
    "    Example: Input: [0,1,0,2,3,2,2] => Output: {0:2, 1:1, 2:3, 3:1}\n",
    "    \"\"\"\n",
    "    # TODO: the calculation process of counts\n",
    "    # We need counts also for later when we are computing the empirical PMF\n",
    "    occ_count = {}\n",
    "    for x in X:\n",
    "        if f'{x}' in occ_count:\n",
    "            occ_count[f'{x}'] = occ_count[f'{x}'] + 1\n",
    "        else:\n",
    "            occ_count[f'{x}'] = 1\n",
    "    return occ_count\n",
    "\n",
    "\n",
    "def compute_mean(X):\n",
    "    \"\"\"\n",
    "    Input: certain list of data   \n",
    "    Output: mean of this list   \n",
    "    \"\"\"\n",
    "    # TODO: the calculation process of mean\n",
    "    # sorted_x = X\n",
    "    # sorted_x.sort()\n",
    "    # Mean\n",
    "    return sum(X) / len(X)\n",
    "\n",
    "\n",
    "def compute_median(X):\n",
    "    \"\"\"\n",
    "    Input: certain list of data   \n",
    "    Output: median of this list\n",
    "    Tip:Note: If the number of data values is odd, returns the exact middle value. \n",
    "    If the number of data values is even, returns the average of the two middle values.   \n",
    "    \"\"\"\n",
    "    # TODO: the calculation process of median\n",
    "    sorted_x = X\n",
    "    sorted_x.sort()\n",
    "    mid_idx = int((len(sorted_x) - 1) / 2)\n",
    "    return (sorted_x[mid_idx] + sorted_x[mid_idx + 1])/2 if len(sorted_x) % 2 == 0 else sorted_x[mid_idx]\n",
    "\n",
    "def compute_mode(X):\n",
    "    \"\"\"\n",
    "    Input: certain list of data   \n",
    "    Output: element with highest frequency \n",
    "    Hint: You can use function count_dictionary   \n",
    "    \"\"\"\n",
    "    # TODO: the calculation process of mode  \n",
    "    occ_count = count_dictionary(X)\n",
    "    max_ctr = -math.inf\n",
    "    mode = None\n",
    "    \n",
    "    # mode = max(occ_count, key=occ_count.get)\n",
    "    \n",
    "    for entry in occ_count:\n",
    "        if max_ctr < occ_count[entry]:\n",
    "            max_ctr = occ_count[entry]\n",
    "            mode = int(entry)\n",
    "    return mode\n",
    "\n",
    "\n",
    "x_mean = compute_mean(X)\n",
    "x_median = compute_median(X)\n",
    "x_mode = compute_mode(X)\n",
    "\n",
    "print(f\"Mean: {x_mean}\\nMedian: {x_median}\\nMode: {x_mode}\\n\" )\n",
    "\n",
    "y_mean = compute_mean(Y)\n",
    "y_median = compute_median(Y)\n",
    "y_mode = compute_mode(Y)\n",
    "\n",
    "print(f\"Mean: {y_mean}\\nMedian: {y_median}\\nMode: {y_mode}\" )"
   ]
  },
  {
   "cell_type": "markdown",
   "metadata": {},
   "source": [
    "**b)** Using the sampled data of a) find their:\\\n",
    "i) Probability Mass Function, ii) Expected Value and iii) Variance.  "
   ]
  },
  {
   "cell_type": "code",
   "execution_count": 4,
   "metadata": {
    "ExecuteTime": {
     "end_time": "2024-02-01T09:07:17.378898Z",
     "start_time": "2024-02-01T09:07:15.634239Z"
    }
   },
   "outputs": [
    {
     "name": "stdout",
     "output_type": "stream",
     "text": [
      "\n",
      "For X:\n",
      "Expected Value of X is 30.007646\n",
      "Variance of X is 49.01916353868399\n",
      "\n",
      "For Y:\n",
      "Expected Value of Y is 70.00270400000002\n",
      "Variance of Y is 99.99015668838403\n"
     ]
    }
   ],
   "source": [
    "# In order to make our life a lot easier, we will compute the probability of each element\n",
    "# Because that will be useful for the next couple of tasks\n",
    "# NOTE: We can reuse the dictionary from earlier (Task A)\n",
    "\n",
    "\n",
    "def compute_pmf(X):\n",
    "    \"\"\"\n",
    "    Input: certain list of data   \n",
    "    Output: pmf as a dictionary \n",
    "    Example: Input: [0,1,0,2,3,2,2] => Output: {0:2/7, 1:1/7, 2:3/7, 3:1/7}\n",
    "    Hint: you can use count_dictionary function from a)\n",
    "    \"\"\"\n",
    "    # TODO: return pmf of X\n",
    "    pmf = {}\n",
    "    entity_count = count_dictionary(X)\n",
    "    for i, (key, value) in enumerate(entity_count.items()):\n",
    "        pmf[key] = value/n\n",
    "    return pmf\n",
    "    \n",
    "\n",
    "\n",
    "\n",
    "def compute_ev(X):\n",
    "    \"\"\"\n",
    "    Input: certain list of data   \n",
    "    Output: expected value of X \n",
    "    Hint: you can use compute_pmf function \n",
    "    \"\"\"\n",
    "    pmf = compute_pmf(X)\n",
    "    expected_value = 0\n",
    "    for i, (number, prob) in enumerate(pmf.items()):\n",
    "        expected_value = expected_value + (float(number) * prob)\n",
    "    return expected_value\n",
    "    # TODO: return the expected value of X\n",
    "\n",
    "\n",
    "def compute_variance(X):  \n",
    "    \"\"\"\n",
    "    Input: certain list of data   \n",
    "    Output: variance of X \n",
    "    Hint: you can use compute_pmf and compute_ev functions\n",
    "    \"\"\"\n",
    "    pmf = compute_pmf(X)\n",
    "    ev = compute_ev(X)\n",
    "    return sum([((float(value) - ev) ** 2) * prob for value, prob in pmf.items()])\n",
    "    # TODO: return the variance of X\n",
    "\n",
    "\n",
    "\n",
    "    \n",
    "print(\"\\nFor X:\")\n",
    "x_pmf = compute_pmf(X)\n",
    "x_ev = compute_ev(X)\n",
    "print(f'Expected Value of X is {x_ev}')\n",
    "x_variance = compute_variance(X)\n",
    "print(f'Variance of X is {x_variance}')\n",
    "\n",
    "print(\"\\nFor Y:\")\n",
    "y_pmf = compute_pmf(Y)\n",
    "y_ev = compute_ev(Y)\n",
    "print(f'Expected Value of Y is {y_ev}')\n",
    "y_variance = compute_variance(Y)\n",
    "print(f'Variance of Y is {y_variance}')\n"
   ]
  },
  {
   "cell_type": "markdown",
   "metadata": {},
   "source": [
    "**c)** Suppose the only information we had is the sampled data $X$ and $Y$ for the *Age* and *Weight* respectively. Plot the distributions of $X$ and $Y$ and consider if the data seem to fit a normal distribution.  "
   ]
  },
  {
   "cell_type": "code",
   "execution_count": 11,
   "metadata": {
    "ExecuteTime": {
     "end_time": "2024-02-01T10:04:16.357932Z",
     "start_time": "2024-02-01T10:04:15.733501Z"
    }
   },
   "outputs": [
    {
     "name": "stderr",
     "output_type": "stream",
     "text": [
      "No artists with labels found to put in legend.  Note that artists whose label start with an underscore are ignored when legend() is called with no argument.\n"
     ]
    },
    {
     "data": {
      "text/plain": "<Figure size 640x480 with 1 Axes>",
      "image/png": "[encoded data removed]"
     },
     "metadata": {},
     "output_type": "display_data"
    }
   ],
   "source": [
    "import scipy.stats as stats\n",
    "# TODO: use plt.hist() and bins = len(np.unique()) in order to visualize the distribution\n",
    "import matplotlib.pyplot as plt\n",
    "\n",
    "# Your dictionary\n",
    "data = count_dictionary(X)\n",
    "\n",
    "# Prepare data for plotting\n",
    "keys = [int(k) for k in data.keys()]\n",
    "values = [v for v in data.values()]\n",
    "\n",
    "data_y = count_dictionary(Y)\n",
    "\n",
    "# Prepare data for plotting\n",
    "keys_y = [int(k) for k in data_y.keys()]\n",
    "values_y = [v for v in data_y.values()]\n",
    "\n",
    "# Create graph\n",
    "# plt.bar(keys, values)\n",
    "# plt.hist(keys, weights=values, bins=range(min(keys), max(keys) + 2))\n",
    "plt.hist(keys, weights=values, bins=len(np.unique(keys)))\n",
    "\n",
    "plt.hist(keys_y, weights=values_y, bins=len(np.unique(keys_y)))\n",
    "\n",
    "\n",
    "# Label axes\n",
    "plt.xlabel('Age/Weight')\n",
    "plt.ylabel('Frequency')\n",
    "\n",
    "# Show the plot\n",
    "plt.legend()\n",
    "plt.show()\n"
   ]
  },
  {
   "cell_type": "markdown",
   "metadata": {},
   "source": [
    "**d)** What is the probability of observing weight of 80 or higher?  "
   ]
  },
  {
   "cell_type": "markdown",
   "metadata": {},
   "source": [
    "HINT: To calculate the probability we have to use the probability density function of normal distribution for $X$, in range $[80,\\infty)$. Calculate the sample PDF and the expected PDF given that the distribution is normal with ($\\mu_Y=70,\\sigma_Y=10$). How close are these two values?\n",
    "\n",
    "**Answer**"
   ]
  },
  {
   "cell_type": "markdown",
   "source": [
    "CDF Formula: $ \\frac{1 + \\frac{x - \\mu}{\\sigma \\cdot \\sqrt(2)}}{2}$"
   ],
   "metadata": {
    "collapsed": false
   }
  },
  {
   "cell_type": "code",
   "execution_count": 18,
   "metadata": {
    "ExecuteTime": {
     "end_time": "2024-02-01T10:13:09.432085Z",
     "start_time": "2024-02-01T10:13:09.422503Z"
    }
   },
   "outputs": [
    {
     "name": "stdout",
     "output_type": "stream",
     "text": [
      "Expected Probability: 0.14708\n",
      "0.15865525393145707\n"
     ]
    }
   ],
   "source": [
    " # TODO: find the probability that weight is >80 (PDF), then find the expected PDF of the normal distribution (μ=70,σ=10) and compare the results\n",
    "def compute_cdf(x, mu, sigma):\n",
    "    \"\"\"\n",
    "    Input: x value, mean (mu), standard deviation (sigma)\n",
    "    Output: cdf at x for a normal distribution with parameters mu and sigma\n",
    "    \"\"\"\n",
    "    return (1 + math.erf((x - mu) / (sigma * math.sqrt(2)))) / 2\n",
    "\n",
    "\n",
    "n80  = Y[Y>80]\n",
    "\n",
    "expected_prob = len(n80) / n\n",
    "prob_neg = 1-compute_cdf(80, 70, 10)\n",
    "\n",
    "# calc CDF for y1 and y2 and subtract them\n",
    "\n",
    "print(f'Expected Probability: {expected_prob}')\n",
    "print(prob_neg)"
   ]
  },
  {
   "cell_type": "markdown",
   "metadata": {},
   "source": [
    "**e)** Find the 2-dimensional mean $\\hat \\mu$ and the covariance matrix $\\widehat \\Sigma$ for these two variables.  "
   ]
  },
  {
   "cell_type": "markdown",
   "source": [
    "$\\$"
   ],
   "metadata": {
    "collapsed": false
   }
  },
  {
   "cell_type": "code",
   "execution_count": 19,
   "metadata": {
    "ExecuteTime": {
     "end_time": "2024-02-01T10:17:13.270458Z",
     "start_time": "2024-02-01T10:17:13.236473Z"
    }
   },
   "outputs": [
    {
     "name": "stdout",
     "output_type": "stream",
     "text": [
      "Mean:\n",
      " [[30.007646 70.002704]]\n",
      "Cov: \n",
      " [[49.01916354 69.92121733]\n",
      " [69.92121733 99.99015669]]\n"
     ]
    }
   ],
   "source": [
    "# TODO: Compute 2-Dimensional mean is the vector (E[X], E[Y])\n",
    "Z = np.c_[X, Y]\n",
    "n, d = Z.shape\n",
    "mu = np.mean(Z, axis=0, keepdims=True)\n",
    "cov = (Z-mu).T @ (Z-mu)/n\n",
    "# @ = Matrix\n",
    "# .T = Transpose\n",
    "\n",
    "# TODO: The diagonal of the Covariance matrix must equal the initial covariance values of X and Y. Check your results.\n",
    "print(\"Mean:\\n\", mu)\n",
    "print(\"Cov: \\n\", cov)"
   ]
  },
  {
   "cell_type": "markdown",
   "metadata": {},
   "source": [
    "**f)** Normalize the data with _range normalization_ to the range $[0, 1]$  "
   ]
  },
  {
   "cell_type": "markdown",
   "metadata": {},
   "source": [
    "**range normalization**:\n",
    "\n",
    "$x_i^{'} = \\frac{x_i-\\min_i{x_i}}{\\max_i{x_i} - \\min_i{x_i}}$"
   ]
  },
  {
   "cell_type": "code",
   "execution_count": 20,
   "metadata": {
    "ExecuteTime": {
     "end_time": "2024-02-01T10:19:54.676424Z",
     "start_time": "2024-02-01T10:19:54.644373Z"
    }
   },
   "outputs": [
    {
     "name": "stdout",
     "output_type": "stream",
     "text": [
      "[[0.         0.        ]\n",
      " [0.03076923 0.        ]\n",
      " [0.03076923 0.        ]\n",
      " ...\n",
      " [0.96923077 1.        ]\n",
      " [0.98461538 1.        ]\n",
      " [1.         1.        ]]\n"
     ]
    }
   ],
   "source": [
    "# TODO: Compute the range normalization: (x_i - min)/(max - min)\n",
    "min_z = Z.min(0, keepdims=True)\n",
    "max_z = Z.max(0, keepdims=True)\n",
    "\n",
    "Z_normalised = (Z-min_z) / (max_z - min_z)\n",
    "print(Z_normalised)"
   ]
  },
  {
   "cell_type": "markdown",
   "metadata": {},
   "source": [
    "**g)** Normalize the data with _standard score normalization_ such that is has mean 0 and standard deviation 1.  "
   ]
  },
  {
   "cell_type": "markdown",
   "metadata": {},
   "source": [
    "**z-score**:\n",
    "\n",
    "$x_i^{'} = \\frac{x_i-\\hat{\\mu}}{\\hat{\\sigma}}$"
   ]
  },
  {
   "cell_type": "code",
   "execution_count": null,
   "metadata": {},
   "outputs": [],
   "source": [
    "# TODO: #  Compute the standard score normalization:, x_i = (x_i - mu)/(sigma)\n",
    "x_ssn = [(x - x_mean)/np.sqrt(x_variance) for x in X]"
   ]
  },
  {
   "cell_type": "markdown",
   "metadata": {},
   "source": [
    "## Exercise 2: Robustness\n",
    "Determine whether the following statements are true or false and explain why.\n",
    " - Mean is robust against outliers\n",
    " - Median is robust against outliers\n",
    " - Standard deviation is robust against outliers\n"
   ]
  },
  {
   "cell_type": "markdown",
   "metadata": {},
   "source": [
    "**Answer:**\n",
    "\n",
    "-> False\n",
    "-> True\n",
    "-> False\n",
    "\n",
    "1. **Mean is robust against outliers**: This statement is **False**. The mean, or average, of a dataset is highly sensitive to outliers. An outlier, which is a data point that is significantly different from the other data points, can greatly affect the mean. For example, consider the dataset {1, 2, 3, 4, 100}. The mean of this dataset is 22, which is heavily influenced by the outlier 100.\n",
    "\n",
    "2. **Median is robust against outliers**: This statement is **True**. The median, which is the middle value in a sorted dataset, is not affected by outliers. This is because it only considers the middle value(s), and not the magnitude of the values. In the previous example, the median is 3, which is not influenced by the outlier 100.\n",
    "\n",
    "3. **Standard deviation is robust against outliers**: This statement is **False**. The standard deviation, which measures the dispersion of a dataset, is also sensitive to outliers. This is because it squares the deviations from the mean, causing greater weight to be placed on outliers. In the previous example, the standard deviation is significantly larger due to the outlier 100."
   ]
  },
  {
   "cell_type": "markdown",
   "metadata": {},
   "source": [
    "## Exercise 3: More on robustness\n",
    "Provide an informal definition of when a measure is robust. "
   ]
  },
  {
   "cell_type": "markdown",
   "metadata": {},
   "source": [
    "**Answer:**\n",
    "\n",
    "-> If you have extreme values it should not affect it."
   ]
  },
  {
   "cell_type": "markdown",
   "metadata": {},
   "source": [
    "## Exercise 4: Independence analysis\n",
    "Please explain what the idea of independence analysis is using contingency tables; for which kind of data is this particularly relevant? \n"
   ]
  },
  {
   "cell_type": "markdown",
   "metadata": {},
   "source": [
    "**Answer:**\n",
    "\n",
    "-> Determine if two categorical variables are independent or ig they are in fact related to one another. If two categorical variables are independent, then the value of one variable does not change the probability distribution of the other. If two categorical variables are related, then the distribution of one depends on the level the other. This test measures the differences in the observed conditional distribution of one variable across levels of the other, and compares it to the marginal (overall) distribution.\n"
   ]
  },
  {
   "cell_type": "markdown",
   "metadata": {},
   "source": [
    "## Exercise 5: Contingency table and $\\chi^2$ statistics\n",
    "In the table below,  assuming that $X_1$ is discretized into three bins, as follows: $[-2, -0.5]$, $[-0.5, 0.5]$, and $[0.5, 2]$.\n",
    "\n",
    "![Table 3.11](graphics/3.11.png)\n",
    "\n",
    "Answer the following questions\n",
    "\n",
    "**a)** Construct the contingency table between the discretized $X_1$ and $X_2$ attributes, including the row and column counts.<br>\n",
    "**b)** Construct the expected table between the discretized $X_1$ and $X_2$ attributes.<br>\n",
    "**c)** Compute the $\\chi^2$ statistic between them.<br>\n",
    "**d)** Determine whether they are dependent or not at the 5% significance level. Use the $\\chi^2$ critical values from Table 3.10.\n",
    "\n",
    "![Table 3.10](graphics/3.10.png)"
   ]
  },
  {
   "cell_type": "markdown",
   "metadata": {},
   "source": [
    "**Answer:**\n",
    "**a)**"
   ]
  },
  {
   "cell_type": "code",
   "execution_count": 27,
   "metadata": {
    "ExecuteTime": {
     "end_time": "2024-02-01T10:42:01.497520Z",
     "start_time": "2024-02-01T10:42:01.486890Z"
    }
   },
   "outputs": [
    {
     "name": "stdout",
     "output_type": "stream",
     "text": [
      "X_1: [1, 1, 1, 0, 1, 2, 1, 0, 2, 0]\n",
      "X_2: ['a', 'b', 'a', 'a', 'a', 'b', 'a', 'b', 'b', 'a']\n",
      "X_2 Updated: [0, 1, 0, 0, 0, 1, 0, 1, 1, 0]\n",
      "Our table before row counts: [[2, 1], [4, 1], [0, 2]]\n",
      "Column Count: [3, 5, 2]\n"
     ]
    }
   ],
   "source": [
    "\n",
    "X_1 = [0.3, -0.3, 0.44, -0.60, 0.40, 1.20, -0.12, -1.60, 1.60, -1.32]\n",
    "X_2 = [\"a\", \"b\", \"a\", \"a\", \"a\", \"b\", \"a\", \"b\", \"b\", \"a\"]\n",
    "# For sanity's sake, use code to bin X_1\n",
    "# Converting everything to numbers allow us to index in them for easier computation\n",
    "X_tmp = []\n",
    "for x in X_1:\n",
    "    if x >= -2 and x <= -0.5:\n",
    "        X_tmp.append(0)\n",
    "    elif x >= -0.5 and x <= 0.5:\n",
    "            X_tmp.append(1)\n",
    "    elif x > 0.5:\n",
    "            X_tmp.append(2)\n",
    "X_1 = X_tmp\n",
    "\n",
    "print(f'X_1: {X_1}')\n",
    "print(f'X_2: {X_2}')\n",
    "\n",
    "X_2 = [0 if x == \"a\" else 1 for x in X_2]\n",
    "\n",
    "print(f'X_2 Updated: {X_2}')\n",
    "\n",
    "# Our table looks like\n",
    "## Bins: a b\n",
    "## bin1\n",
    "## bin2\n",
    "## bin3\n",
    "b1_row = [0, 0]\n",
    "b2_row = [0, 0]\n",
    "b3_row = [0, 0]\n",
    "count_row = [0, 0, 0] # THIS ONE is for column counts\n",
    "c_table = [b1_row, b2_row, b3_row]\n",
    "# TODO: Compute contingency table c_table \n",
    "\n",
    "# Iterate over the binned data\n",
    "for i in range(len(X_1)):\n",
    "    # Increment the count for the corresponding bin and category\n",
    "    c_table[X_1[i]][X_2[i]] += 1\n",
    "    count_row[X_1[i]] += 1\n",
    "\n",
    "print(f\"Our table before row counts: {c_table}\")   \n",
    "print(f'Column Count: {count_row}')"
   ]
  },
  {
   "cell_type": "markdown",
   "metadata": {},
   "source": [
    "\n",
    "**Answer:**\n",
    "**b)**"
   ]
  },
  {
   "cell_type": "code",
   "execution_count": 25,
   "metadata": {
    "ExecuteTime": {
     "end_time": "2024-02-01T10:37:20.710063Z",
     "start_time": "2024-02-01T10:37:20.704817Z"
    }
   },
   "outputs": [
    {
     "name": "stdout",
     "output_type": "stream",
     "text": [
      "Expected Table:\n",
      "[1.8, 1.2]\n",
      "[3.0, 2.0]\n",
      "[1.2, 0.8]\n",
      "The expected table is: [[1.8, 1.2], [3.0, 2.0], [1.2, 0.8]]\n"
     ]
    }
   ],
   "source": [
    "# Now add row counts\n",
    "# Remember these are reference variables, so modifying these\n",
    "# will also modify our table\n",
    "\n",
    "# TODO: Compute expected table\n",
    "E = [[0, 0] for _ in range(3)]\n",
    "\n",
    "# Compute the total count\n",
    "total_count = sum(count_row)\n",
    "\n",
    "# Compute the column counts\n",
    "column_counts = [sum(row) for row in zip(*c_table)]\n",
    "\n",
    "# Compute the expected counts for each cell\n",
    "for i in range(3):\n",
    "    for j in range(2):\n",
    "        E[i][j] = (count_row[i] * column_counts[j]) / total_count\n",
    "\n",
    "print(\"Expected Table:\")\n",
    "for row in E:\n",
    "    print(row)\n",
    "\n",
    "\n",
    "print(f\"The expected table is: {E}\")"
   ]
  },
  {
   "cell_type": "markdown",
   "metadata": {},
   "source": [
    "**Answer:**\n",
    "**c)**\n",
    "\n"
   ]
  },
  {
   "cell_type": "code",
   "execution_count": 28,
   "metadata": {
    "ExecuteTime": {
     "end_time": "2024-02-01T10:46:38.209636Z",
     "start_time": "2024-02-01T10:46:38.200277Z"
    }
   },
   "outputs": [
    {
     "name": "stdout",
     "output_type": "stream",
     "text": [
      "Chi_squared is: 3.8888888888888884\n"
     ]
    }
   ],
   "source": [
    "# TODO: Compute Chi_squared\n",
    "Chi_squared = 0\n",
    "for i in range(3):\n",
    "    for j in range(2):\n",
    "        Chi_squared += ((c_table[i][j] - E[i][j])**2)/(E[i][j])\n",
    "print(f\"Chi_squared is: {Chi_squared}\")\n"
   ]
  },
  {
   "cell_type": "markdown",
   "metadata": {},
   "source": [
    "**Answer:**\n",
    "**d)**\n",
    "\n",
    "# Degree of freedom\n",
    "\n",
    "q = (2-1)*(3-1) = 2\n",
    "\n",
    "$X^2 \\leq 0.05 (\\alpha = 5\\%)$\n",
    "\n",
    "$X^2 = $ Chi-Square\n",
    "->  We accept it since 3.888 < 5.991\n",
    "\n",
    "90% - 50% - 10%\n",
    "\n",
    "50 (p-value) $\\leq$ 5 (alpha-value)\n",
    "\n",
    "The definition (p-value $\\leq$ alpha-value [significance-level]) of the inequality states that we should reject the NULL HYPOTHESIS: Which is false because $50 > 5$, So we accept the NULL HYPOTHESIS.\n",
    "\n",
    "Accepting the NULL Hypothesis = They are independent.\n"
   ]
  },
  {
   "cell_type": "markdown",
   "source": [],
   "metadata": {
    "collapsed": false
   }
  },
  {
   "cell_type": "markdown",
   "metadata": {},
   "source": [
    "## Exercise 6: Working with Metrics\n",
    "\n",
    "Consider the following situation: \n",
    "\n",
    "We know some distances between data points: $d(p_1,p_2)=1$, $d(p_1,p_3)=2$, $d(p_3, p_4)=1$. \n",
    "We also know that $d$ is a metric. \n",
    "\n",
    "1. What do we know about the remaining distances?\n",
    "2. Do we need to compute further distances if we want to find the two points that are most similar to $p_1$? \n",
    "3. Can $p_4$ be closer to $p_2$ than $p_3$ is to $p_2$?\n",
    "\n",
    "\n",
    "\n",
    "\n"
   ]
  },
  {
   "cell_type": "markdown",
   "source": [
    "**Answers:** Use triangle of inequality\n",
    "\n",
    " Given that $d$ is a metric, it must satisfy the following properties:\n",
    "\n",
    "1. Non-negativity: $d(p_i, p_j) \\geq 0$ for all $i, j$.\n",
    "2. Identity of indiscernibles: $d(p_i, p_j) = 0$ if and only if $p_i = p_j$.\n",
    "3. Symmetry: $d(p_i, p_j) = d(p_j, p_i)$ for all $i, j$.\n",
    "4. Triangle inequality: $d(p_i, p_j) \\leq d(p_i, p_k) + d(p_k, p_j)$ for all $i, j, k$.\n",
    "\n",
    "Now, let's answer your questions:\n",
    "\n",
    "1. From the triangle inequality, we can infer that:\n",
    "    - $d(p_2, p_3) \\leq d(p_2, p_1) + d(p_1, p_3) \\leq 1 + 2 = 3$\n",
    "    - $d(p_1, p_4) \\leq d(p_1, p_3) + d(p_3, p_4) \\leq 2 + 1 = 3$\n",
    "    - $d(p_2, p_4) \\leq d(p_2, p_1) + d(p_1, p_4) \\leq 1 + 3 = 4$\n",
    "2. To find the two points that are most similar to $p_1$, we need to find the two points that have the smallest distances to $p_1$. We already know the distances from $p_1$ to $p_2$ and $p_1$ to $p_3$. To complete this task, we need to compute $d(p_1, p_4)$.\n",
    "3. From the triangle inequality, we have $d(p_4, p_2) \\leq d(p_4, p_3) + d(p_3, p_2) = 1 + 3 = 4$. So, $p_4$ can be closer to $p_2$ than $p_3$ is to $p_2$ if $d(p_4, p_2) < d(p_3, p_2)$, but we don't have enough information to determine this. We would need to know the exact value of $d(p_4, p_2)$ to answer this question definitively."
   ],
   "metadata": {
    "collapsed": false
   }
  },
  {
   "cell_type": "markdown",
   "metadata": {},
   "source": [
    "# Optional Exercises\n",
    "\n",
    "## Exercise 7: Mean absolute deviation \n",
    "Define a measure of deviation called _mean absolute deviation_ for a random variable $X$ as follows:\n",
    "\n",
    "$$\n",
    "\\frac{1}{n} \\sum_{i=1}^n |x_i - \\mu|\n",
    "$$\n",
    "\n",
    "Is this measure robust? Why or why not?"
   ]
  },
  {
   "cell_type": "markdown",
   "metadata": {},
   "source": [
    "**Answer:**\n",
    "\n",
    "-> It is not robust. Single outlier can skew the mean absolute deviation."
   ]
  },
  {
   "cell_type": "markdown",
   "metadata": {},
   "source": [
    "## Exercise 8: Correlation\n",
    "\n",
    "Consider the table below. Assume that both the attributes $X$ and $Y$ are numeric, and the\n",
    "table represents the entire population. And we know that the correlation between $X$\n",
    "and $Y$ is zero.\n",
    "1. What can you infer about the values of $Y$? (Find a relationship between $a$, $b$ and $c$)\n",
    "2. If we know there is a missing row, what can we infer about it?\n",
    "\n",
    "|$X$ | $Y$ |\n",
    "|:---:|:---:|\n",
    "|$1$|$a$|\n",
    "|$0$|$b$|\n",
    "|$1$|$c$|\n",
    "|$0$|$a$|\n",
    "|$0$|$c$|"
   ]
  },
  {
   "cell_type": "markdown",
   "metadata": {},
   "source": [
    "**Answer**\n",
    "\n",
    "    1. E[XY] = E[X] E[Y]\n",
    "    \n",
    "E[XY] = (1*a + 0*b ....) / 5 = a+c/5\n",
    "\n",
    "E[X] = 2/5\n",
    "\n",
    "E[Y] = 2a + b + 2c / 5\n",
    "\n",
    "Solve the equation above\n",
    "\n",
    "2b = a + c\n",
    "\n",
    "\n",
    "    2.\n",
    "\n"
   ]
  },
  {
   "cell_type": "markdown",
   "metadata": {},
   "source": [
    "# Exercise 9: 3-way contingency table\n",
    "\n",
    "Consider the 3-way contingency table for attributes $X$,$Y$,$Z$ shown in the table below.\n",
    "Compute the $\\chi^2$ metric for the correlation between $Y$ and $Z$. Are they dependent\n",
    "or independent at the 95% confidence level? See Table 3.10 above for $\\chi^2$ values.\n",
    "\n",
    "![Table 3.9](graphics/3.9.png)"
   ]
  },
  {
   "cell_type": "code",
   "execution_count": null,
   "metadata": {},
   "outputs": [],
   "source": [
    "import scipy.stats.contingency\n",
    "from scipy.stats import chi2_contingency\n",
    "# TODO: Compute contingency using chi2_contingency\n",
    "xy = np.array([[40,25],[40,35]])"
   ]
  },
  {
   "attachments": {},
   "cell_type": "markdown",
   "metadata": {},
   "source": [
    "# Exercise 10: Mixed data\n",
    "\n",
    "Consider the \"mixed\" data given in the table below. Here $X_1$ is a numeric attribute and\n",
    "$X_2$ is a categorical one. Assume that the domain of $X_2$ is given as $dom(X_2) = \\{a, b\\}$.\n",
    "Answer the following questions.\n",
    "\n",
    "**a)** What is the mean vector for this dataset?  \n",
    "**b)** What is the covariance matrix?  \n",
    "\n",
    "![Table 3.11](graphics/3.11.png)\n",
    "\n"
   ]
  },
  {
   "cell_type": "code",
   "execution_count": null,
   "metadata": {},
   "outputs": [],
   "source": [
    "fine = np.array([[0.3,1,0],[-0.3,0,1],[0.44,1,0],[-0.6,1,0],[0.4,1,0],[1.2,0,1],[-0.12,1,0],[-0.16,0,1],[1.6,0,1],[-1.32,1,0]])\n",
    "# TODO: compute the mean vector\n",
    "mu = None\n",
    "print(\"mean vector:\\n\", mu)"
   ]
  },
  {
   "cell_type": "code",
   "execution_count": null,
   "metadata": {},
   "outputs": [],
   "source": [
    "n, d = fine.shape\n",
    "# TODO: compute the covariance matrix\n",
    "cov = None\n",
    "\n",
    "print(f\"Cov: {cov}\")"
   ]
  }
 ],
 "metadata": {
  "kernelspec": {
   "display_name": "Python 3",
   "language": "python",
   "name": "python3"
  },
  "language_info": {
   "codemirror_mode": {
    "name": "ipython",
    "version": 3
   },
   "file_extension": ".py",
   "mimetype": "text/x-python",
   "name": "python",
   "nbconvert_exporter": "python",
   "pygments_lexer": "ipython3",
   "version": "3.10.9 (tags/v3.10.9:1dd9be6, Dec  6 2022, 20:01:21) [MSC v.1934 64 bit (AMD64)]"
  },
  "vscode": {
   "interpreter": {
    "hash": "80c6980e3f02e16e7aee110d1bf85cdb98492d897883fc820eec5f24d661294b"
   }
  }
 },
 "nbformat": 4,
 "nbformat_minor": 4
}
